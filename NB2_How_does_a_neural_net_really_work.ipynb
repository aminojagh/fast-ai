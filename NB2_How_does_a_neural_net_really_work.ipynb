{
  "nbformat": 4,
  "nbformat_minor": 0,
  "metadata": {
    "colab": {
      "provenance": [],
      "toc_visible": true,
      "authorship_tag": "ABX9TyO+VwSMHKIPAJ5Tkkx0QFAe",
      "include_colab_link": true
    },
    "kernelspec": {
      "name": "python3",
      "display_name": "Python 3"
    },
    "language_info": {
      "name": "python"
    },
    "widgets": {
      "application/vnd.jupyter.widget-state+json": {
        "d8a22aa623024f23a30fd63f033fbaf0": {
          "model_module": "@jupyter-widgets/controls",
          "model_name": "VBoxModel",
          "model_module_version": "1.5.0",
          "state": {
            "_dom_classes": [
              "widget-interact"
            ],
            "_model_module": "@jupyter-widgets/controls",
            "_model_module_version": "1.5.0",
            "_model_name": "VBoxModel",
            "_view_count": null,
            "_view_module": "@jupyter-widgets/controls",
            "_view_module_version": "1.5.0",
            "_view_name": "VBoxView",
            "box_style": "",
            "children": [
              "IPY_MODEL_f9ae11ee52ab4537b75f285ffd098f48",
              "IPY_MODEL_c9b564cec8fd4354bce7c0e8075c24a1",
              "IPY_MODEL_632ee930f17748b69ba12354bbbf089a",
              "IPY_MODEL_4b74f9f58bbe42ffb5b00148ce02298b"
            ],
            "layout": "IPY_MODEL_04f689a2dd3b41f9958e6c3801734d4a"
          }
        },
        "f9ae11ee52ab4537b75f285ffd098f48": {
          "model_module": "@jupyter-widgets/controls",
          "model_name": "FloatSliderModel",
          "model_module_version": "1.5.0",
          "state": {
            "_dom_classes": [],
            "_model_module": "@jupyter-widgets/controls",
            "_model_module_version": "1.5.0",
            "_model_name": "FloatSliderModel",
            "_view_count": null,
            "_view_module": "@jupyter-widgets/controls",
            "_view_module_version": "1.5.0",
            "_view_name": "FloatSliderView",
            "continuous_update": true,
            "description": "a",
            "description_tooltip": null,
            "disabled": false,
            "layout": "IPY_MODEL_26e75b2178b144ceaa9dac2deb6d24e5",
            "max": 3.3000000000000003,
            "min": -1.1,
            "orientation": "horizontal",
            "readout": true,
            "readout_format": ".2f",
            "step": 0.1,
            "style": "IPY_MODEL_59024b791c8e490abcac7bf72951cf36",
            "value": 1.1
          }
        },
        "c9b564cec8fd4354bce7c0e8075c24a1": {
          "model_module": "@jupyter-widgets/controls",
          "model_name": "FloatSliderModel",
          "model_module_version": "1.5.0",
          "state": {
            "_dom_classes": [],
            "_model_module": "@jupyter-widgets/controls",
            "_model_module_version": "1.5.0",
            "_model_name": "FloatSliderModel",
            "_view_count": null,
            "_view_module": "@jupyter-widgets/controls",
            "_view_module_version": "1.5.0",
            "_view_name": "FloatSliderView",
            "continuous_update": true,
            "description": "b",
            "description_tooltip": null,
            "disabled": false,
            "layout": "IPY_MODEL_d81e50cb94d24dc28f09a18e865c9ae3",
            "max": 3.3000000000000003,
            "min": -1.1,
            "orientation": "horizontal",
            "readout": true,
            "readout_format": ".2f",
            "step": 0.1,
            "style": "IPY_MODEL_e1208804f0264819b725b3ae4e6b818d",
            "value": 1.1
          }
        },
        "632ee930f17748b69ba12354bbbf089a": {
          "model_module": "@jupyter-widgets/controls",
          "model_name": "FloatSliderModel",
          "model_module_version": "1.5.0",
          "state": {
            "_dom_classes": [],
            "_model_module": "@jupyter-widgets/controls",
            "_model_module_version": "1.5.0",
            "_model_name": "FloatSliderModel",
            "_view_count": null,
            "_view_module": "@jupyter-widgets/controls",
            "_view_module_version": "1.5.0",
            "_view_name": "FloatSliderView",
            "continuous_update": true,
            "description": "c",
            "description_tooltip": null,
            "disabled": false,
            "layout": "IPY_MODEL_d0271d7731974c268f46c92cfccac7d6",
            "max": 3.3000000000000003,
            "min": -1.1,
            "orientation": "horizontal",
            "readout": true,
            "readout_format": ".2f",
            "step": 0.1,
            "style": "IPY_MODEL_60a8be35f9f64bfeb0c8f5c31690b6b5",
            "value": 1.1
          }
        },
        "4b74f9f58bbe42ffb5b00148ce02298b": {
          "model_module": "@jupyter-widgets/output",
          "model_name": "OutputModel",
          "model_module_version": "1.0.0",
          "state": {
            "_dom_classes": [],
            "_model_module": "@jupyter-widgets/output",
            "_model_module_version": "1.0.0",
            "_model_name": "OutputModel",
            "_view_count": null,
            "_view_module": "@jupyter-widgets/output",
            "_view_module_version": "1.0.0",
            "_view_name": "OutputView",
            "layout": "IPY_MODEL_fd047e97a55543129372b66df8698001",
            "msg_id": "",
            "outputs": [
              {
                "output_type": "display_data",
                "data": {
                  "text/plain": "<Figure size 576x432 with 1 Axes>",
                  "image/png": "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\n"
                },
                "metadata": {}
              }
            ]
          }
        },
        "04f689a2dd3b41f9958e6c3801734d4a": {
          "model_module": "@jupyter-widgets/base",
          "model_name": "LayoutModel",
          "model_module_version": "1.2.0",
          "state": {
            "_model_module": "@jupyter-widgets/base",
            "_model_module_version": "1.2.0",
            "_model_name": "LayoutModel",
            "_view_count": null,
            "_view_module": "@jupyter-widgets/base",
            "_view_module_version": "1.2.0",
            "_view_name": "LayoutView",
            "align_content": null,
            "align_items": null,
            "align_self": null,
            "border": null,
            "bottom": null,
            "display": null,
            "flex": null,
            "flex_flow": null,
            "grid_area": null,
            "grid_auto_columns": null,
            "grid_auto_flow": null,
            "grid_auto_rows": null,
            "grid_column": null,
            "grid_gap": null,
            "grid_row": null,
            "grid_template_areas": null,
            "grid_template_columns": null,
            "grid_template_rows": null,
            "height": null,
            "justify_content": null,
            "justify_items": null,
            "left": null,
            "margin": null,
            "max_height": null,
            "max_width": null,
            "min_height": null,
            "min_width": null,
            "object_fit": null,
            "object_position": null,
            "order": null,
            "overflow": null,
            "overflow_x": null,
            "overflow_y": null,
            "padding": null,
            "right": null,
            "top": null,
            "visibility": null,
            "width": null
          }
        },
        "26e75b2178b144ceaa9dac2deb6d24e5": {
          "model_module": "@jupyter-widgets/base",
          "model_name": "LayoutModel",
          "model_module_version": "1.2.0",
          "state": {
            "_model_module": "@jupyter-widgets/base",
            "_model_module_version": "1.2.0",
            "_model_name": "LayoutModel",
            "_view_count": null,
            "_view_module": "@jupyter-widgets/base",
            "_view_module_version": "1.2.0",
            "_view_name": "LayoutView",
            "align_content": null,
            "align_items": null,
            "align_self": null,
            "border": null,
            "bottom": null,
            "display": null,
            "flex": null,
            "flex_flow": null,
            "grid_area": null,
            "grid_auto_columns": null,
            "grid_auto_flow": null,
            "grid_auto_rows": null,
            "grid_column": null,
            "grid_gap": null,
            "grid_row": null,
            "grid_template_areas": null,
            "grid_template_columns": null,
            "grid_template_rows": null,
            "height": null,
            "justify_content": null,
            "justify_items": null,
            "left": null,
            "margin": null,
            "max_height": null,
            "max_width": null,
            "min_height": null,
            "min_width": null,
            "object_fit": null,
            "object_position": null,
            "order": null,
            "overflow": null,
            "overflow_x": null,
            "overflow_y": null,
            "padding": null,
            "right": null,
            "top": null,
            "visibility": null,
            "width": null
          }
        },
        "59024b791c8e490abcac7bf72951cf36": {
          "model_module": "@jupyter-widgets/controls",
          "model_name": "SliderStyleModel",
          "model_module_version": "1.5.0",
          "state": {
            "_model_module": "@jupyter-widgets/controls",
            "_model_module_version": "1.5.0",
            "_model_name": "SliderStyleModel",
            "_view_count": null,
            "_view_module": "@jupyter-widgets/base",
            "_view_module_version": "1.2.0",
            "_view_name": "StyleView",
            "description_width": "",
            "handle_color": null
          }
        },
        "d81e50cb94d24dc28f09a18e865c9ae3": {
          "model_module": "@jupyter-widgets/base",
          "model_name": "LayoutModel",
          "model_module_version": "1.2.0",
          "state": {
            "_model_module": "@jupyter-widgets/base",
            "_model_module_version": "1.2.0",
            "_model_name": "LayoutModel",
            "_view_count": null,
            "_view_module": "@jupyter-widgets/base",
            "_view_module_version": "1.2.0",
            "_view_name": "LayoutView",
            "align_content": null,
            "align_items": null,
            "align_self": null,
            "border": null,
            "bottom": null,
            "display": null,
            "flex": null,
            "flex_flow": null,
            "grid_area": null,
            "grid_auto_columns": null,
            "grid_auto_flow": null,
            "grid_auto_rows": null,
            "grid_column": null,
            "grid_gap": null,
            "grid_row": null,
            "grid_template_areas": null,
            "grid_template_columns": null,
            "grid_template_rows": null,
            "height": null,
            "justify_content": null,
            "justify_items": null,
            "left": null,
            "margin": null,
            "max_height": null,
            "max_width": null,
            "min_height": null,
            "min_width": null,
            "object_fit": null,
            "object_position": null,
            "order": null,
            "overflow": null,
            "overflow_x": null,
            "overflow_y": null,
            "padding": null,
            "right": null,
            "top": null,
            "visibility": null,
            "width": null
          }
        },
        "e1208804f0264819b725b3ae4e6b818d": {
          "model_module": "@jupyter-widgets/controls",
          "model_name": "SliderStyleModel",
          "model_module_version": "1.5.0",
          "state": {
            "_model_module": "@jupyter-widgets/controls",
            "_model_module_version": "1.5.0",
            "_model_name": "SliderStyleModel",
            "_view_count": null,
            "_view_module": "@jupyter-widgets/base",
            "_view_module_version": "1.2.0",
            "_view_name": "StyleView",
            "description_width": "",
            "handle_color": null
          }
        },
        "d0271d7731974c268f46c92cfccac7d6": {
          "model_module": "@jupyter-widgets/base",
          "model_name": "LayoutModel",
          "model_module_version": "1.2.0",
          "state": {
            "_model_module": "@jupyter-widgets/base",
            "_model_module_version": "1.2.0",
            "_model_name": "LayoutModel",
            "_view_count": null,
            "_view_module": "@jupyter-widgets/base",
            "_view_module_version": "1.2.0",
            "_view_name": "LayoutView",
            "align_content": null,
            "align_items": null,
            "align_self": null,
            "border": null,
            "bottom": null,
            "display": null,
            "flex": null,
            "flex_flow": null,
            "grid_area": null,
            "grid_auto_columns": null,
            "grid_auto_flow": null,
            "grid_auto_rows": null,
            "grid_column": null,
            "grid_gap": null,
            "grid_row": null,
            "grid_template_areas": null,
            "grid_template_columns": null,
            "grid_template_rows": null,
            "height": null,
            "justify_content": null,
            "justify_items": null,
            "left": null,
            "margin": null,
            "max_height": null,
            "max_width": null,
            "min_height": null,
            "min_width": null,
            "object_fit": null,
            "object_position": null,
            "order": null,
            "overflow": null,
            "overflow_x": null,
            "overflow_y": null,
            "padding": null,
            "right": null,
            "top": null,
            "visibility": null,
            "width": null
          }
        },
        "60a8be35f9f64bfeb0c8f5c31690b6b5": {
          "model_module": "@jupyter-widgets/controls",
          "model_name": "SliderStyleModel",
          "model_module_version": "1.5.0",
          "state": {
            "_model_module": "@jupyter-widgets/controls",
            "_model_module_version": "1.5.0",
            "_model_name": "SliderStyleModel",
            "_view_count": null,
            "_view_module": "@jupyter-widgets/base",
            "_view_module_version": "1.2.0",
            "_view_name": "StyleView",
            "description_width": "",
            "handle_color": null
          }
        },
        "fd047e97a55543129372b66df8698001": {
          "model_module": "@jupyter-widgets/base",
          "model_name": "LayoutModel",
          "model_module_version": "1.2.0",
          "state": {
            "_model_module": "@jupyter-widgets/base",
            "_model_module_version": "1.2.0",
            "_model_name": "LayoutModel",
            "_view_count": null,
            "_view_module": "@jupyter-widgets/base",
            "_view_module_version": "1.2.0",
            "_view_name": "LayoutView",
            "align_content": null,
            "align_items": null,
            "align_self": null,
            "border": null,
            "bottom": null,
            "display": null,
            "flex": null,
            "flex_flow": null,
            "grid_area": null,
            "grid_auto_columns": null,
            "grid_auto_flow": null,
            "grid_auto_rows": null,
            "grid_column": null,
            "grid_gap": null,
            "grid_row": null,
            "grid_template_areas": null,
            "grid_template_columns": null,
            "grid_template_rows": null,
            "height": null,
            "justify_content": null,
            "justify_items": null,
            "left": null,
            "margin": null,
            "max_height": null,
            "max_width": null,
            "min_height": null,
            "min_width": null,
            "object_fit": null,
            "object_position": null,
            "order": null,
            "overflow": null,
            "overflow_x": null,
            "overflow_y": null,
            "padding": null,
            "right": null,
            "top": null,
            "visibility": null,
            "width": null
          }
        },
        "34bd0394209b484eb45d0ee081af09ed": {
          "model_module": "@jupyter-widgets/controls",
          "model_name": "VBoxModel",
          "model_module_version": "1.5.0",
          "state": {
            "_dom_classes": [
              "widget-interact"
            ],
            "_model_module": "@jupyter-widgets/controls",
            "_model_module_version": "1.5.0",
            "_model_name": "VBoxModel",
            "_view_count": null,
            "_view_module": "@jupyter-widgets/controls",
            "_view_module_version": "1.5.0",
            "_view_name": "VBoxView",
            "box_style": "",
            "children": [
              "IPY_MODEL_cc96e0d536244ae4bb94bd9f2d22e453",
              "IPY_MODEL_0b60455955454bceb430a0c19c242d0a",
              "IPY_MODEL_0a3a443301d844e79dbf18e5b4e9e353",
              "IPY_MODEL_e6a23f768b544efcab859eaee7901829",
              "IPY_MODEL_8b06429290ef4378aa56baed10a3c5ec"
            ],
            "layout": "IPY_MODEL_9ffd96a34d634acfafa112cb78bd9d81"
          }
        },
        "cc96e0d536244ae4bb94bd9f2d22e453": {
          "model_module": "@jupyter-widgets/controls",
          "model_name": "FloatSliderModel",
          "model_module_version": "1.5.0",
          "state": {
            "_dom_classes": [],
            "_model_module": "@jupyter-widgets/controls",
            "_model_module_version": "1.5.0",
            "_model_name": "FloatSliderModel",
            "_view_count": null,
            "_view_module": "@jupyter-widgets/controls",
            "_view_module_version": "1.5.0",
            "_view_name": "FloatSliderView",
            "continuous_update": true,
            "description": "m1",
            "description_tooltip": null,
            "disabled": false,
            "layout": "IPY_MODEL_46d9870151f44f7fb0927d42aa17e15f",
            "max": 1.5,
            "min": -4.5,
            "orientation": "horizontal",
            "readout": true,
            "readout_format": ".2f",
            "step": 0.1,
            "style": "IPY_MODEL_ed21916a55754117a60a14fb52018535",
            "value": -3.1
          }
        },
        "0b60455955454bceb430a0c19c242d0a": {
          "model_module": "@jupyter-widgets/controls",
          "model_name": "FloatSliderModel",
          "model_module_version": "1.5.0",
          "state": {
            "_dom_classes": [],
            "_model_module": "@jupyter-widgets/controls",
            "_model_module_version": "1.5.0",
            "_model_name": "FloatSliderModel",
            "_view_count": null,
            "_view_module": "@jupyter-widgets/controls",
            "_view_module_version": "1.5.0",
            "_view_name": "FloatSliderView",
            "continuous_update": true,
            "description": "b1",
            "description_tooltip": null,
            "disabled": false,
            "layout": "IPY_MODEL_bf4e01b043cb4cb1b5fde33dbf1dc62e",
            "max": 1.5,
            "min": -4.5,
            "orientation": "horizontal",
            "readout": true,
            "readout_format": ".2f",
            "step": 0.1,
            "style": "IPY_MODEL_f7f10873455a41e9834f6ba17ec6e8ce",
            "value": -2.9
          }
        },
        "0a3a443301d844e79dbf18e5b4e9e353": {
          "model_module": "@jupyter-widgets/controls",
          "model_name": "FloatSliderModel",
          "model_module_version": "1.5.0",
          "state": {
            "_dom_classes": [],
            "_model_module": "@jupyter-widgets/controls",
            "_model_module_version": "1.5.0",
            "_model_name": "FloatSliderModel",
            "_view_count": null,
            "_view_module": "@jupyter-widgets/controls",
            "_view_module_version": "1.5.0",
            "_view_name": "FloatSliderView",
            "continuous_update": true,
            "description": "m2",
            "description_tooltip": null,
            "disabled": false,
            "layout": "IPY_MODEL_6fce6b69de8e4544841650fd830546e3",
            "max": 4.5,
            "min": -1.5,
            "orientation": "horizontal",
            "readout": true,
            "readout_format": ".2f",
            "step": 0.1,
            "style": "IPY_MODEL_123c67f046144c53b5041111db79ae12",
            "value": 2.2
          }
        },
        "e6a23f768b544efcab859eaee7901829": {
          "model_module": "@jupyter-widgets/controls",
          "model_name": "FloatSliderModel",
          "model_module_version": "1.5.0",
          "state": {
            "_dom_classes": [],
            "_model_module": "@jupyter-widgets/controls",
            "_model_module_version": "1.5.0",
            "_model_name": "FloatSliderModel",
            "_view_count": null,
            "_view_module": "@jupyter-widgets/controls",
            "_view_module_version": "1.5.0",
            "_view_name": "FloatSliderView",
            "continuous_update": true,
            "description": "b2",
            "description_tooltip": null,
            "disabled": false,
            "layout": "IPY_MODEL_67578897e0b64532bdd9ccc35885d9e0",
            "max": 4.5,
            "min": -1.5,
            "orientation": "horizontal",
            "readout": true,
            "readout_format": ".2f",
            "step": 0.1,
            "style": "IPY_MODEL_1f78aeffee0c48fcb5e71d3854e36ad7",
            "value": 0.1
          }
        },
        "8b06429290ef4378aa56baed10a3c5ec": {
          "model_module": "@jupyter-widgets/output",
          "model_name": "OutputModel",
          "model_module_version": "1.0.0",
          "state": {
            "_dom_classes": [],
            "_model_module": "@jupyter-widgets/output",
            "_model_module_version": "1.0.0",
            "_model_name": "OutputModel",
            "_view_count": null,
            "_view_module": "@jupyter-widgets/output",
            "_view_module_version": "1.0.0",
            "_view_name": "OutputView",
            "layout": "IPY_MODEL_cf052f6abe6a40f6a4901665785f9ae5",
            "msg_id": "",
            "outputs": [
              {
                "output_type": "display_data",
                "data": {
                  "text/plain": "<Figure size 576x432 with 1 Axes>",
                  "image/png": "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\n"
                },
                "metadata": {}
              }
            ]
          }
        },
        "9ffd96a34d634acfafa112cb78bd9d81": {
          "model_module": "@jupyter-widgets/base",
          "model_name": "LayoutModel",
          "model_module_version": "1.2.0",
          "state": {
            "_model_module": "@jupyter-widgets/base",
            "_model_module_version": "1.2.0",
            "_model_name": "LayoutModel",
            "_view_count": null,
            "_view_module": "@jupyter-widgets/base",
            "_view_module_version": "1.2.0",
            "_view_name": "LayoutView",
            "align_content": null,
            "align_items": null,
            "align_self": null,
            "border": null,
            "bottom": null,
            "display": null,
            "flex": null,
            "flex_flow": null,
            "grid_area": null,
            "grid_auto_columns": null,
            "grid_auto_flow": null,
            "grid_auto_rows": null,
            "grid_column": null,
            "grid_gap": null,
            "grid_row": null,
            "grid_template_areas": null,
            "grid_template_columns": null,
            "grid_template_rows": null,
            "height": null,
            "justify_content": null,
            "justify_items": null,
            "left": null,
            "margin": null,
            "max_height": null,
            "max_width": null,
            "min_height": null,
            "min_width": null,
            "object_fit": null,
            "object_position": null,
            "order": null,
            "overflow": null,
            "overflow_x": null,
            "overflow_y": null,
            "padding": null,
            "right": null,
            "top": null,
            "visibility": null,
            "width": null
          }
        },
        "46d9870151f44f7fb0927d42aa17e15f": {
          "model_module": "@jupyter-widgets/base",
          "model_name": "LayoutModel",
          "model_module_version": "1.2.0",
          "state": {
            "_model_module": "@jupyter-widgets/base",
            "_model_module_version": "1.2.0",
            "_model_name": "LayoutModel",
            "_view_count": null,
            "_view_module": "@jupyter-widgets/base",
            "_view_module_version": "1.2.0",
            "_view_name": "LayoutView",
            "align_content": null,
            "align_items": null,
            "align_self": null,
            "border": null,
            "bottom": null,
            "display": null,
            "flex": null,
            "flex_flow": null,
            "grid_area": null,
            "grid_auto_columns": null,
            "grid_auto_flow": null,
            "grid_auto_rows": null,
            "grid_column": null,
            "grid_gap": null,
            "grid_row": null,
            "grid_template_areas": null,
            "grid_template_columns": null,
            "grid_template_rows": null,
            "height": null,
            "justify_content": null,
            "justify_items": null,
            "left": null,
            "margin": null,
            "max_height": null,
            "max_width": null,
            "min_height": null,
            "min_width": null,
            "object_fit": null,
            "object_position": null,
            "order": null,
            "overflow": null,
            "overflow_x": null,
            "overflow_y": null,
            "padding": null,
            "right": null,
            "top": null,
            "visibility": null,
            "width": null
          }
        },
        "ed21916a55754117a60a14fb52018535": {
          "model_module": "@jupyter-widgets/controls",
          "model_name": "SliderStyleModel",
          "model_module_version": "1.5.0",
          "state": {
            "_model_module": "@jupyter-widgets/controls",
            "_model_module_version": "1.5.0",
            "_model_name": "SliderStyleModel",
            "_view_count": null,
            "_view_module": "@jupyter-widgets/base",
            "_view_module_version": "1.2.0",
            "_view_name": "StyleView",
            "description_width": "",
            "handle_color": null
          }
        },
        "bf4e01b043cb4cb1b5fde33dbf1dc62e": {
          "model_module": "@jupyter-widgets/base",
          "model_name": "LayoutModel",
          "model_module_version": "1.2.0",
          "state": {
            "_model_module": "@jupyter-widgets/base",
            "_model_module_version": "1.2.0",
            "_model_name": "LayoutModel",
            "_view_count": null,
            "_view_module": "@jupyter-widgets/base",
            "_view_module_version": "1.2.0",
            "_view_name": "LayoutView",
            "align_content": null,
            "align_items": null,
            "align_self": null,
            "border": null,
            "bottom": null,
            "display": null,
            "flex": null,
            "flex_flow": null,
            "grid_area": null,
            "grid_auto_columns": null,
            "grid_auto_flow": null,
            "grid_auto_rows": null,
            "grid_column": null,
            "grid_gap": null,
            "grid_row": null,
            "grid_template_areas": null,
            "grid_template_columns": null,
            "grid_template_rows": null,
            "height": null,
            "justify_content": null,
            "justify_items": null,
            "left": null,
            "margin": null,
            "max_height": null,
            "max_width": null,
            "min_height": null,
            "min_width": null,
            "object_fit": null,
            "object_position": null,
            "order": null,
            "overflow": null,
            "overflow_x": null,
            "overflow_y": null,
            "padding": null,
            "right": null,
            "top": null,
            "visibility": null,
            "width": null
          }
        },
        "f7f10873455a41e9834f6ba17ec6e8ce": {
          "model_module": "@jupyter-widgets/controls",
          "model_name": "SliderStyleModel",
          "model_module_version": "1.5.0",
          "state": {
            "_model_module": "@jupyter-widgets/controls",
            "_model_module_version": "1.5.0",
            "_model_name": "SliderStyleModel",
            "_view_count": null,
            "_view_module": "@jupyter-widgets/base",
            "_view_module_version": "1.2.0",
            "_view_name": "StyleView",
            "description_width": "",
            "handle_color": null
          }
        },
        "6fce6b69de8e4544841650fd830546e3": {
          "model_module": "@jupyter-widgets/base",
          "model_name": "LayoutModel",
          "model_module_version": "1.2.0",
          "state": {
            "_model_module": "@jupyter-widgets/base",
            "_model_module_version": "1.2.0",
            "_model_name": "LayoutModel",
            "_view_count": null,
            "_view_module": "@jupyter-widgets/base",
            "_view_module_version": "1.2.0",
            "_view_name": "LayoutView",
            "align_content": null,
            "align_items": null,
            "align_self": null,
            "border": null,
            "bottom": null,
            "display": null,
            "flex": null,
            "flex_flow": null,
            "grid_area": null,
            "grid_auto_columns": null,
            "grid_auto_flow": null,
            "grid_auto_rows": null,
            "grid_column": null,
            "grid_gap": null,
            "grid_row": null,
            "grid_template_areas": null,
            "grid_template_columns": null,
            "grid_template_rows": null,
            "height": null,
            "justify_content": null,
            "justify_items": null,
            "left": null,
            "margin": null,
            "max_height": null,
            "max_width": null,
            "min_height": null,
            "min_width": null,
            "object_fit": null,
            "object_position": null,
            "order": null,
            "overflow": null,
            "overflow_x": null,
            "overflow_y": null,
            "padding": null,
            "right": null,
            "top": null,
            "visibility": null,
            "width": null
          }
        },
        "123c67f046144c53b5041111db79ae12": {
          "model_module": "@jupyter-widgets/controls",
          "model_name": "SliderStyleModel",
          "model_module_version": "1.5.0",
          "state": {
            "_model_module": "@jupyter-widgets/controls",
            "_model_module_version": "1.5.0",
            "_model_name": "SliderStyleModel",
            "_view_count": null,
            "_view_module": "@jupyter-widgets/base",
            "_view_module_version": "1.2.0",
            "_view_name": "StyleView",
            "description_width": "",
            "handle_color": null
          }
        },
        "67578897e0b64532bdd9ccc35885d9e0": {
          "model_module": "@jupyter-widgets/base",
          "model_name": "LayoutModel",
          "model_module_version": "1.2.0",
          "state": {
            "_model_module": "@jupyter-widgets/base",
            "_model_module_version": "1.2.0",
            "_model_name": "LayoutModel",
            "_view_count": null,
            "_view_module": "@jupyter-widgets/base",
            "_view_module_version": "1.2.0",
            "_view_name": "LayoutView",
            "align_content": null,
            "align_items": null,
            "align_self": null,
            "border": null,
            "bottom": null,
            "display": null,
            "flex": null,
            "flex_flow": null,
            "grid_area": null,
            "grid_auto_columns": null,
            "grid_auto_flow": null,
            "grid_auto_rows": null,
            "grid_column": null,
            "grid_gap": null,
            "grid_row": null,
            "grid_template_areas": null,
            "grid_template_columns": null,
            "grid_template_rows": null,
            "height": null,
            "justify_content": null,
            "justify_items": null,
            "left": null,
            "margin": null,
            "max_height": null,
            "max_width": null,
            "min_height": null,
            "min_width": null,
            "object_fit": null,
            "object_position": null,
            "order": null,
            "overflow": null,
            "overflow_x": null,
            "overflow_y": null,
            "padding": null,
            "right": null,
            "top": null,
            "visibility": null,
            "width": null
          }
        },
        "1f78aeffee0c48fcb5e71d3854e36ad7": {
          "model_module": "@jupyter-widgets/controls",
          "model_name": "SliderStyleModel",
          "model_module_version": "1.5.0",
          "state": {
            "_model_module": "@jupyter-widgets/controls",
            "_model_module_version": "1.5.0",
            "_model_name": "SliderStyleModel",
            "_view_count": null,
            "_view_module": "@jupyter-widgets/base",
            "_view_module_version": "1.2.0",
            "_view_name": "StyleView",
            "description_width": "",
            "handle_color": null
          }
        },
        "cf052f6abe6a40f6a4901665785f9ae5": {
          "model_module": "@jupyter-widgets/base",
          "model_name": "LayoutModel",
          "model_module_version": "1.2.0",
          "state": {
            "_model_module": "@jupyter-widgets/base",
            "_model_module_version": "1.2.0",
            "_model_name": "LayoutModel",
            "_view_count": null,
            "_view_module": "@jupyter-widgets/base",
            "_view_module_version": "1.2.0",
            "_view_name": "LayoutView",
            "align_content": null,
            "align_items": null,
            "align_self": null,
            "border": null,
            "bottom": null,
            "display": null,
            "flex": null,
            "flex_flow": null,
            "grid_area": null,
            "grid_auto_columns": null,
            "grid_auto_flow": null,
            "grid_auto_rows": null,
            "grid_column": null,
            "grid_gap": null,
            "grid_row": null,
            "grid_template_areas": null,
            "grid_template_columns": null,
            "grid_template_rows": null,
            "height": null,
            "justify_content": null,
            "justify_items": null,
            "left": null,
            "margin": null,
            "max_height": null,
            "max_width": null,
            "min_height": null,
            "min_width": null,
            "object_fit": null,
            "object_position": null,
            "order": null,
            "overflow": null,
            "overflow_x": null,
            "overflow_y": null,
            "padding": null,
            "right": null,
            "top": null,
            "visibility": null,
            "width": null
          }
        }
      }
    }
  },
  "cells": [
    {
      "cell_type": "markdown",
      "metadata": {
        "id": "view-in-github",
        "colab_type": "text"
      },
      "source": [
        "<a href=\"https://colab.research.google.com/github/aminojagh/fast-ai/blob/main/NB2_How_does_a_neural_net_really_work.ipynb\" target=\"_parent\"><img src=\"https://colab.research.google.com/assets/colab-badge.svg\" alt=\"Open In Colab\"/></a>"
      ]
    },
    {
      "cell_type": "markdown",
      "source": [
        "## Fitting a function with gradient descent"
      ],
      "metadata": {
        "id": "ux4r9gBUUWtW"
      }
    },
    {
      "cell_type": "code",
      "execution_count": 14,
      "metadata": {
        "id": "tEg2eC0ySymf"
      },
      "outputs": [],
      "source": [
        "from ipywidgets import interact\n",
        "import matplotlib.pyplot as plt\n",
        "import torch, numpy as np\n",
        "from functools import partial\n",
        "\n",
        "# from fastai.basics import *"
      ]
    },
    {
      "cell_type": "code",
      "source": [
        "plt.rc('figure', dpi=90)\n",
        "\n",
        "def plot_function(f, title=None, min=-2.1, max=2.1, color='r', ylim=None):\n",
        "    x = torch.linspace(min,max, 100)[:,None]\n",
        "    if ylim: plt.ylim(ylim);\n",
        "    plt.plot(x, f(x), color);\n",
        "    if title is not None: plt.title(title);"
      ],
      "metadata": {
        "id": "QnzJlS6gWYNE"
      },
      "execution_count": 15,
      "outputs": []
    },
    {
      "cell_type": "code",
      "source": [
        "def quad(a, b, c, x): return a*x**2 + b*x + c\n",
        "def mk_quad(a,b,c): return partial(quad, a,b,c)\n",
        "def noise(x, scale): return np.random.normal(scale=scale, size=x.shape)\n",
        "def add_noise(x, mult, add): return x * (1+noise(x,mult)) + noise(x,add)\n",
        "def mae(preds, acts): return (torch.abs(preds-acts)).mean()\n",
        "\n",
        "def _plot_quad(x, y, a, b, c):\n",
        "    f = mk_quad(a,b,c)\n",
        "    plt.scatter(x,y)\n",
        "    loss = mae(f(x), y)\n",
        "    plot_function(f, ylim=(-3,12), title=f\"MAE: {loss:.2f}\")"
      ],
      "metadata": {
        "id": "9DlnSRdjUkU2"
      },
      "execution_count": 16,
      "outputs": []
    },
    {
      "cell_type": "code",
      "source": [
        "np.random.seed(42)\n",
        "f2 = mk_quad(3,2,1)\n",
        "x = torch.linspace(-2, 2, steps=20)[:,None]\n",
        "y = add_noise(f2(x), 0.15, 1.5)\n",
        "\n",
        "@interact(a=1.1, b=1.1, c=1.1)\n",
        "def plot_quad(a,b,c): return partial(_plot_quad, x,y)(a,b,c)"
      ],
      "metadata": {
        "colab": {
          "base_uri": "https://localhost:8080/",
          "height": 539,
          "referenced_widgets": [
            "d8a22aa623024f23a30fd63f033fbaf0",
            "f9ae11ee52ab4537b75f285ffd098f48",
            "c9b564cec8fd4354bce7c0e8075c24a1",
            "632ee930f17748b69ba12354bbbf089a",
            "4b74f9f58bbe42ffb5b00148ce02298b",
            "04f689a2dd3b41f9958e6c3801734d4a",
            "26e75b2178b144ceaa9dac2deb6d24e5",
            "59024b791c8e490abcac7bf72951cf36",
            "d81e50cb94d24dc28f09a18e865c9ae3",
            "e1208804f0264819b725b3ae4e6b818d",
            "d0271d7731974c268f46c92cfccac7d6",
            "60a8be35f9f64bfeb0c8f5c31690b6b5",
            "fd047e97a55543129372b66df8698001"
          ]
        },
        "id": "jktIPejNUw-U",
        "outputId": "caded9ea-9200-408c-f5d0-c6d79f810c96"
      },
      "execution_count": 21,
      "outputs": [
        {
          "output_type": "stream",
          "name": "stderr",
          "text": [
            "<ipython-input-16-d77a0d107243>:4: DeprecationWarning: __array_wrap__ must accept context and return_scalar arguments (positionally) in the future. (Deprecated NumPy 2.0)\n",
            "  def add_noise(x, mult, add): return x * (1+noise(x,mult)) + noise(x,add)\n"
          ]
        },
        {
          "output_type": "display_data",
          "data": {
            "text/plain": [
              "interactive(children=(FloatSlider(value=1.1, description='a', max=3.3000000000000003, min=-1.1), FloatSlider(v…"
            ],
            "application/vnd.jupyter.widget-view+json": {
              "version_major": 2,
              "version_minor": 0,
              "model_id": "d8a22aa623024f23a30fd63f033fbaf0"
            }
          },
          "metadata": {}
        }
      ]
    },
    {
      "cell_type": "markdown",
      "source": [
        "## Automating gradient descent"
      ],
      "metadata": {
        "id": "YsyajZuYVZtO"
      }
    },
    {
      "cell_type": "code",
      "source": [
        "def quad_mae(params):\n",
        "    f = mk_quad(*params)\n",
        "    return mae(f(x), y)"
      ],
      "metadata": {
        "id": "Z4XfIh7jVa2o"
      },
      "execution_count": 22,
      "outputs": []
    },
    {
      "cell_type": "code",
      "source": [
        "abc = torch.tensor([1.1,1.1,1.1])\n",
        "abc.requires_grad_()\n",
        "loss = quad_mae(abc)\n",
        "print(f\"loss: {loss}\")\n",
        "loss.backward()\n",
        "print(f\"grdients of parameters: {abc.grad}\")"
      ],
      "metadata": {
        "colab": {
          "base_uri": "https://localhost:8080/"
        },
        "id": "4ur6zUbxapfC",
        "outputId": "3a04e7f3-2e0e-42f3-c720-dcd98fb53d47"
      },
      "execution_count": 23,
      "outputs": [
        {
          "output_type": "stream",
          "name": "stdout",
          "text": [
            "loss: 2.421854506915183\n",
            "grdients of parameters: tensor([-1.3529, -0.0316, -0.5000])\n"
          ]
        }
      ]
    },
    {
      "cell_type": "code",
      "source": [
        "for i in range(10):\n",
        "    loss = quad_mae(abc)\n",
        "    loss.backward()\n",
        "    with torch.no_grad(): abc -= abc.grad*0.01\n",
        "    print(f'step={i}; loss={loss:.2f}')"
      ],
      "metadata": {
        "colab": {
          "base_uri": "https://localhost:8080/"
        },
        "id": "I68IGUTnbC_O",
        "outputId": "c03c5930-1489-4e7f-c37d-19fee2b5cdf2"
      },
      "execution_count": 24,
      "outputs": [
        {
          "output_type": "stream",
          "name": "stdout",
          "text": [
            "step=0; loss=2.42\n",
            "step=1; loss=2.38\n",
            "step=2; loss=2.32\n",
            "step=3; loss=2.23\n",
            "step=4; loss=2.13\n",
            "step=5; loss=2.01\n",
            "step=6; loss=1.87\n",
            "step=7; loss=1.73\n",
            "step=8; loss=1.60\n",
            "step=9; loss=1.47\n"
          ]
        }
      ]
    },
    {
      "cell_type": "markdown",
      "source": [
        "## How a neural network approximates any given function"
      ],
      "metadata": {
        "id": "8I3Fg6HvbOZU"
      }
    },
    {
      "cell_type": "code",
      "source": [
        "import torch.nn.functional as F\n",
        "\n",
        "def rectified_linear(m,b,x): return torch.clip(m*x+b, 0.)\n",
        "def rectified_linear2(m,b,x): return F.relu(m*x+b)\n",
        "\n",
        "def double_relu(m1,b1,m2,b2,x):\n",
        "    return rectified_linear(m1,b1,x) + rectified_linear(m2,b2,x)"
      ],
      "metadata": {
        "id": "JxRLhRUpbK8A"
      },
      "execution_count": 28,
      "outputs": []
    },
    {
      "cell_type": "code",
      "source": [
        "# @interact(m=1.5, b=1.5)\n",
        "# def plot_relu(m, b):\n",
        "#     plot_function(partial(rectified_linear, m,b), ylim=(-1,4))\n",
        "\n",
        "@interact(m1=-1.5, b1=-1.5, m2=1.5, b2=1.5)\n",
        "def plot_double_relu(m1, b1, m2, b2):\n",
        "    plot_function(partial(double_relu, m1,b1,m2,b2), ylim=(-1,6))"
      ],
      "metadata": {
        "colab": {
          "base_uri": "https://localhost:8080/",
          "height": 522,
          "referenced_widgets": [
            "34bd0394209b484eb45d0ee081af09ed",
            "cc96e0d536244ae4bb94bd9f2d22e453",
            "0b60455955454bceb430a0c19c242d0a",
            "0a3a443301d844e79dbf18e5b4e9e353",
            "e6a23f768b544efcab859eaee7901829",
            "8b06429290ef4378aa56baed10a3c5ec",
            "9ffd96a34d634acfafa112cb78bd9d81",
            "46d9870151f44f7fb0927d42aa17e15f",
            "ed21916a55754117a60a14fb52018535",
            "bf4e01b043cb4cb1b5fde33dbf1dc62e",
            "f7f10873455a41e9834f6ba17ec6e8ce",
            "6fce6b69de8e4544841650fd830546e3",
            "123c67f046144c53b5041111db79ae12",
            "67578897e0b64532bdd9ccc35885d9e0",
            "1f78aeffee0c48fcb5e71d3854e36ad7",
            "cf052f6abe6a40f6a4901665785f9ae5"
          ]
        },
        "id": "dnwpfHhsbp54",
        "outputId": "c1e99c56-7a86-470c-b408-e5cdd9ade486"
      },
      "execution_count": 31,
      "outputs": [
        {
          "output_type": "display_data",
          "data": {
            "text/plain": [
              "interactive(children=(FloatSlider(value=-1.5, description='m1', max=1.5, min=-4.5), FloatSlider(value=-1.5, de…"
            ],
            "application/vnd.jupyter.widget-view+json": {
              "version_major": 2,
              "version_minor": 0,
              "model_id": "34bd0394209b484eb45d0ee081af09ed"
            }
          },
          "metadata": {}
        }
      ]
    }
  ]
}