{
  "nbformat": 4,
  "nbformat_minor": 0,
  "metadata": {
    "colab": {
      "provenance": [],
      "toc_visible": true,
      "authorship_tag": "ABX9TyO+VwSMHKIPAJ5Tkkx0QFAe",
      "include_colab_link": true
    },
    "kernelspec": {
      "name": "python3",
      "display_name": "Python 3"
    },
    "language_info": {
      "name": "python"
    }
  },
  "cells": [
    {
      "cell_type": "markdown",
      "metadata": {
        "id": "view-in-github",
        "colab_type": "text"
      },
      "source": [
        "<a href=\"https://colab.research.google.com/github/aminojagh/fast-ai/blob/main/NB2_How_does_a_neural_net_really_work.ipynb\" target=\"_parent\"><img src=\"https://colab.research.google.com/assets/colab-badge.svg\" alt=\"Open In Colab\"/></a>"
      ]
    },
    {
      "cell_type": "markdown",
      "source": [
        "## Fitting a function with gradient descent"
      ],
      "metadata": {
        "id": "ux4r9gBUUWtW"
      }
    },
    {
      "cell_type": "code",
      "execution_count": null,
      "metadata": {
        "id": "tEg2eC0ySymf"
      },
      "outputs": [],
      "source": [
        "from ipywidgets import interact\n",
        "import matplotlib.pyplot as plt\n",
        "import torch, numpy as np\n",
        "from functools import partial\n",
        "\n",
        "# from fastai.basics import *"
      ]
    },
    {
      "cell_type": "code",
      "source": [
        "plt.rc('figure', dpi=90)\n",
        "\n",
        "def plot_function(f, title=None, min=-2.1, max=2.1, color='r', ylim=None):\n",
        "    x = torch.linspace(min,max, 100)[:,None]\n",
        "    if ylim: plt.ylim(ylim);\n",
        "    plt.plot(x, f(x), color);\n",
        "    if title is not None: plt.title(title);"
      ],
      "metadata": {
        "id": "QnzJlS6gWYNE"
      },
      "execution_count": null,
      "outputs": []
    },
    {
      "cell_type": "code",
      "source": [
        "def quad(a, b, c, x): return a*x**2 + b*x + c\n",
        "def mk_quad(a,b,c): return partial(quad, a,b,c)\n",
        "def noise(x, scale): return np.random.normal(scale=scale, size=x.shape)\n",
        "def add_noise(x, mult, add): return x * (1+noise(x,mult)) + noise(x,add)\n",
        "def mae(preds, acts): return (torch.abs(preds-acts)).mean()\n",
        "\n",
        "def _plot_quad(x, y, a, b, c):\n",
        "    f = mk_quad(a,b,c)\n",
        "    plt.scatter(x,y)\n",
        "    loss = mae(f(x), y)\n",
        "    plot_function(f, ylim=(-3,12), title=f\"MAE: {loss:.2f}\")"
      ],
      "metadata": {
        "id": "9DlnSRdjUkU2"
      },
      "execution_count": null,
      "outputs": []
    },
    {
      "cell_type": "code",
      "source": [
        "np.random.seed(42)\n",
        "f2 = mk_quad(3,2,1)\n",
        "x = torch.linspace(-2, 2, steps=20)[:,None]\n",
        "y = add_noise(f2(x), 0.15, 1.5)\n",
        "\n",
        "@interact(a=1.1, b=1.1, c=1.1)\n",
        "def plot_quad(a,b,c): return partial(_plot_quad, x,y)(a,b,c)"
      ],
      "metadata": {
        "id": "jktIPejNUw-U"
      },
      "execution_count": null,
      "outputs": []
    },
    {
      "cell_type": "markdown",
      "source": [
        "## Automating gradient descent"
      ],
      "metadata": {
        "id": "YsyajZuYVZtO"
      }
    },
    {
      "cell_type": "code",
      "source": [
        "def quad_mae(params):\n",
        "    f = mk_quad(*params)\n",
        "    return mae(f(x), y)"
      ],
      "metadata": {
        "id": "Z4XfIh7jVa2o"
      },
      "execution_count": null,
      "outputs": []
    },
    {
      "cell_type": "code",
      "source": [
        "abc = torch.tensor([1.1,1.1,1.1])\n",
        "abc.requires_grad_()\n",
        "loss = quad_mae(abc)\n",
        "print(f\"loss: {loss}\")\n",
        "loss.backward()\n",
        "print(f\"grdients of parameters: {abc.grad}\")"
      ],
      "metadata": {
        "id": "4ur6zUbxapfC"
      },
      "execution_count": null,
      "outputs": []
    },
    {
      "cell_type": "code",
      "source": [
        "for i in range(10):\n",
        "    loss = quad_mae(abc)\n",
        "    loss.backward()\n",
        "    with torch.no_grad(): abc -= abc.grad*0.01\n",
        "    print(f'step={i}; loss={loss:.2f}')"
      ],
      "metadata": {
        "id": "I68IGUTnbC_O"
      },
      "execution_count": null,
      "outputs": []
    },
    {
      "cell_type": "markdown",
      "source": [
        "## How a neural network approximates any given function"
      ],
      "metadata": {
        "id": "8I3Fg6HvbOZU"
      }
    },
    {
      "cell_type": "code",
      "source": [
        "import torch.nn.functional as F\n",
        "\n",
        "def rectified_linear(m,b,x): return torch.clip(m*x+b, 0.)\n",
        "def rectified_linear2(m,b,x): return F.relu(m*x+b)\n",
        "\n",
        "def double_relu(m1,b1,m2,b2,x):\n",
        "    return rectified_linear(m1,b1,x) + rectified_linear(m2,b2,x)"
      ],
      "metadata": {
        "id": "JxRLhRUpbK8A"
      },
      "execution_count": null,
      "outputs": []
    },
    {
      "cell_type": "code",
      "source": [
        "# @interact(m=1.5, b=1.5)\n",
        "# def plot_relu(m, b):\n",
        "#     plot_function(partial(rectified_linear, m,b), ylim=(-1,4))\n",
        "\n",
        "@interact(m1=-1.5, b1=-1.5, m2=1.5, b2=1.5)\n",
        "def plot_double_relu(m1, b1, m2, b2):\n",
        "    plot_function(partial(double_relu, m1,b1,m2,b2), ylim=(-1,6))"
      ],
      "metadata": {
        "id": "dnwpfHhsbp54"
      },
      "execution_count": null,
      "outputs": []
    }
  ]
}