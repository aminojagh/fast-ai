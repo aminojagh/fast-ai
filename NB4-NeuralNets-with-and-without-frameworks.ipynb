{
  "cells": [
    {
      "cell_type": "markdown",
      "metadata": {
        "id": "view-in-github",
        "colab_type": "text"
      },
      "source": [
        "<a href=\"https://colab.research.google.com/github/aminojagh/fast-ai/blob/main/NB4-NeuralNets-with-and-without-frameworks.ipynb\" target=\"_parent\"><img src=\"https://colab.research.google.com/assets/colab-badge.svg\" alt=\"Open In Colab\"/></a>"
      ]
    },
    {
      "cell_type": "markdown",
      "metadata": {
        "id": "BILgyd6n4_CB"
      },
      "source": [
        "# Neural Nets Without Frameworks"
      ]
    },
    {
      "cell_type": "markdown",
      "metadata": {
        "id": "KVGVQq-74_CC"
      },
      "source": [
        "## Initial Setup"
      ]
    },
    {
      "cell_type": "code",
      "execution_count": null,
      "metadata": {
        "id": "amGEBCUI4_CD"
      },
      "outputs": [],
      "source": [
        "import os\n",
        "from pathlib import Path\n",
        "import torch, numpy as np, pandas as pd\n",
        "from torch import tensor\n",
        "from fastai.data.transforms import RandomSplitter\n",
        "import torch.nn.functional as F"
      ]
    },
    {
      "cell_type": "code",
      "source": [
        "path = Path('titanic')\n",
        "if not path.exists(): path.mkdir()\n",
        "# then download titanic dataset from kaggle manually and upload it to this path"
      ],
      "metadata": {
        "id": "qbKJsfDI6_tx"
      },
      "execution_count": null,
      "outputs": []
    },
    {
      "cell_type": "code",
      "execution_count": null,
      "metadata": {
        "id": "Kk1F4XAm4_CD"
      },
      "outputs": [],
      "source": [
        "np.set_printoptions(linewidth=140)\n",
        "torch.set_printoptions(linewidth=140, sci_mode=False, edgeitems=7)\n",
        "pd.set_option('display.width', 140)"
      ]
    },
    {
      "cell_type": "markdown",
      "metadata": {
        "id": "p9c-zP984_CD"
      },
      "source": [
        "## Cleaning the data"
      ]
    },
    {
      "cell_type": "code",
      "execution_count": null,
      "metadata": {
        "id": "qHD0UIHo4_CD"
      },
      "outputs": [],
      "source": [
        "df = pd.read_csv(path/'train.csv')"
      ]
    },
    {
      "cell_type": "code",
      "execution_count": null,
      "metadata": {
        "id": "JIbtaLwL4_CD"
      },
      "outputs": [],
      "source": [
        "# df.isna().sum()"
      ]
    },
    {
      "cell_type": "code",
      "execution_count": null,
      "metadata": {
        "id": "T3NcAsZ-4_CD"
      },
      "outputs": [],
      "source": [
        "modes = df.mode().iloc[0]\n",
        "df.fillna(modes, inplace=True)"
      ]
    },
    {
      "cell_type": "code",
      "execution_count": null,
      "metadata": {
        "id": "ZLZyntoT4_CE"
      },
      "outputs": [],
      "source": [
        "# df.isna().sum()"
      ]
    },
    {
      "cell_type": "code",
      "execution_count": null,
      "metadata": {
        "id": "MsCjF3MX4_CE"
      },
      "outputs": [],
      "source": [
        "# df.describe(include=(np.number))"
      ]
    },
    {
      "cell_type": "code",
      "execution_count": null,
      "metadata": {
        "id": "umpL_duM4_CE"
      },
      "outputs": [],
      "source": [
        "# df['Fare'].hist();"
      ]
    },
    {
      "cell_type": "code",
      "execution_count": null,
      "metadata": {
        "id": "S482iOLE4_CE"
      },
      "outputs": [],
      "source": [
        "df['LogFare'] = np.log(df['Fare']+1)"
      ]
    },
    {
      "cell_type": "code",
      "execution_count": null,
      "metadata": {
        "id": "1Yd1cbqc4_CE"
      },
      "outputs": [],
      "source": [
        "# df['LogFare'].hist();"
      ]
    },
    {
      "cell_type": "code",
      "execution_count": null,
      "metadata": {
        "id": "FP0sznfm4_CE"
      },
      "outputs": [],
      "source": [
        "# pclasses = sorted(df.Pclass.unique())\n",
        "# pclasses"
      ]
    },
    {
      "cell_type": "code",
      "execution_count": null,
      "metadata": {
        "id": "LojfAU504_CE"
      },
      "outputs": [],
      "source": [
        "# df.describe(include=[object])"
      ]
    },
    {
      "cell_type": "code",
      "execution_count": null,
      "metadata": {
        "id": "yK12N8aT4_CE"
      },
      "outputs": [],
      "source": [
        "df = pd.get_dummies(df, columns=[\"Sex\",\"Pclass\",\"Embarked\"])\n",
        "added_cols = ['Sex_male', 'Sex_female', 'Pclass_1', 'Pclass_2', 'Pclass_3', 'Embarked_C', 'Embarked_Q', 'Embarked_S']\n",
        "indep_cols = ['Age', 'SibSp', 'Parch', 'LogFare'] + added_cols"
      ]
    },
    {
      "cell_type": "markdown",
      "metadata": {
        "id": "XJG0kZ6L4_CE"
      },
      "source": [
        "## Setting up a linear model"
      ]
    },
    {
      "cell_type": "code",
      "execution_count": null,
      "metadata": {
        "id": "bW-n0k7Z4_CJ"
      },
      "outputs": [],
      "source": [
        "def init_coeffs(n_coeff): return (torch.rand(n_coeff)-0.5).requires_grad_()"
      ]
    },
    {
      "cell_type": "code",
      "execution_count": null,
      "metadata": {
        "id": "SCj74eKW4_CJ"
      },
      "outputs": [],
      "source": [
        "def update_coeffs(coeffs, lr):\n",
        "    coeffs.sub_(coeffs.grad * lr)\n",
        "    coeffs.grad.zero_()"
      ]
    },
    {
      "cell_type": "code",
      "execution_count": null,
      "metadata": {
        "id": "65b9RJAR4_CF"
      },
      "outputs": [],
      "source": [
        "def calc_preds(coeffs, indeps): return torch.sigmoid((indeps*coeffs).sum(axis=1))\n",
        "def calc_loss(coeffs, indeps, deps): return torch.abs(calc_preds(coeffs, indeps)-deps).mean()"
      ]
    },
    {
      "cell_type": "code",
      "execution_count": null,
      "metadata": {
        "id": "NcFDg3t44_CJ"
      },
      "outputs": [],
      "source": [
        "def one_epoch(coeffs, lr, indep, dep):\n",
        "    loss = calc_loss(coeffs, indep, dep)\n",
        "    loss.backward()\n",
        "    with torch.no_grad(): update_coeffs(coeffs, lr)\n",
        "    print(f\"{loss:.3f}\", end=\"; \")"
      ]
    },
    {
      "cell_type": "code",
      "execution_count": null,
      "metadata": {
        "id": "SC2we_ms4_CJ"
      },
      "outputs": [],
      "source": [
        "def train_model(n_coeff, indep, dep, epochs=30, lr=0.01):\n",
        "    torch.manual_seed(442)\n",
        "    coeffs = init_coeffs(n_coeff)\n",
        "    for i in range(epochs): one_epoch(coeffs, lr, indep, dep)\n",
        "    return coeffs"
      ]
    },
    {
      "cell_type": "markdown",
      "metadata": {
        "id": "vQBmHsYJ4_CF"
      },
      "source": [
        "## Training the linear model"
      ]
    },
    {
      "cell_type": "code",
      "source": [
        "t_indep = tensor(df[indep_cols].values.astype(float), dtype=torch.float)\n",
        "t_dep = tensor(df.Survived)\n",
        "t_indep.shape, t_dep.shape"
      ],
      "metadata": {
        "id": "FlJEa6wm9HpV"
      },
      "execution_count": null,
      "outputs": []
    },
    {
      "cell_type": "code",
      "execution_count": null,
      "metadata": {
        "id": "5SaTBgZo4_CE"
      },
      "outputs": [],
      "source": [
        "n_coeff = t_indep.shape[1]"
      ]
    },
    {
      "cell_type": "code",
      "source": [
        "vals,indices = t_indep.max(dim=0)\n",
        "t_indep = t_indep / vals"
      ],
      "metadata": {
        "id": "nsbV4-5PAYzx"
      },
      "execution_count": null,
      "outputs": []
    },
    {
      "cell_type": "code",
      "execution_count": null,
      "metadata": {
        "id": "aB8aFjyd4_CI"
      },
      "outputs": [],
      "source": [
        "trn_split,val_split=RandomSplitter(seed=42)(df)\n",
        "trn_indep,val_indep = t_indep[trn_split],t_indep[val_split]\n",
        "trn_dep,val_dep = t_dep[trn_split],t_dep[val_split]\n",
        "len(trn_indep),len(val_indep)"
      ]
    },
    {
      "cell_type": "code",
      "execution_count": null,
      "metadata": {
        "id": "bYJslvLF4_CJ"
      },
      "outputs": [],
      "source": [
        "coeffs = train_model(n_coeff, trn_indep, trn_dep, 18, 0.2)"
      ]
    },
    {
      "cell_type": "code",
      "execution_count": null,
      "metadata": {
        "id": "dBBZZpAW4_CJ"
      },
      "outputs": [],
      "source": [
        "def show_coeffs(): return dict(zip(indep_cols, coeffs.requires_grad_(False)))\n",
        "# why did we add this require_grad = false???\n",
        "show_coeffs()"
      ]
    },
    {
      "cell_type": "markdown",
      "metadata": {
        "id": "cxYoKbii4_CJ"
      },
      "source": [
        "## Measuring accuracy"
      ]
    },
    {
      "cell_type": "code",
      "execution_count": null,
      "metadata": {
        "id": "GenEp6zO4_CJ"
      },
      "outputs": [],
      "source": [
        "def acc(coeffs): return (val_dep.bool()==(calc_preds(coeffs, val_indep)>0.5)).float().mean()\n",
        "acc(coeffs)"
      ]
    },
    {
      "cell_type": "markdown",
      "metadata": {
        "id": "6SdT5Yum4_CK"
      },
      "source": [
        "## Submitting to Kaggle"
      ]
    },
    {
      "cell_type": "code",
      "execution_count": null,
      "metadata": {
        "id": "1y9tTh1E4_CL"
      },
      "outputs": [],
      "source": [
        "# tst_df = pd.read_csv(path/'test.csv')\n",
        "\n",
        "# tst_df['Fare'] = tst_df.Fare.fillna(0)\n",
        "\n",
        "# tst_df.fillna(modes, inplace=True)\n",
        "# tst_df['LogFare'] = np.log(tst_df['Fare']+1)\n",
        "# tst_df = pd.get_dummies(tst_df, columns=[\"Sex\",\"Pclass\",\"Embarked\"])\n",
        "\n",
        "# tst_indep = tensor(tst_df[indep_cols].values.astype(float), dtype=torch.float)\n",
        "# tst_indep = tst_indep / vals\n",
        "\n",
        "# tst_df['Survived'] = (calc_preds(tst_indep, coeffs)>0.5).int()\n",
        "\n",
        "# sub_df = tst_df[['PassengerId','Survived']]\n",
        "# sub_df.to_csv('sub.csv', index=False)"
      ]
    },
    {
      "cell_type": "code",
      "execution_count": null,
      "metadata": {
        "id": "ZmlJpq6f4_CL"
      },
      "outputs": [],
      "source": [
        "# !head sub.csv"
      ]
    },
    {
      "cell_type": "markdown",
      "metadata": {
        "id": "M2BNDarm4_CL"
      },
      "source": [
        "## Using matrix product"
      ]
    },
    {
      "cell_type": "code",
      "execution_count": null,
      "metadata": {
        "id": "EVCDlRhB4_CL"
      },
      "outputs": [],
      "source": [
        "def calc_preds(coeffs, indeps): return torch.sigmoid(indeps@coeffs)\n",
        "def init_coeffs(n_coeff): return (torch.rand(n_coeff, 1)*0.1).requires_grad_()\n",
        "\n",
        "trn_dep = trn_dep[:,None]\n",
        "val_dep = val_dep[:,None]\n",
        "# in order to add another dimension and make them 2D tensors"
      ]
    },
    {
      "cell_type": "code",
      "execution_count": null,
      "metadata": {
        "id": "sQLbrbBD4_CM"
      },
      "outputs": [],
      "source": [
        "coeffs = train_model(n_coeff, trn_indep, trn_dep, 30, 100)\n",
        "# notice how we change n_epochs and lr\n",
        "acc(coeffs)"
      ]
    },
    {
      "cell_type": "markdown",
      "metadata": {
        "id": "8r8UnGpT4_CM"
      },
      "source": [
        "## Setting up a 1-layer NN"
      ]
    },
    {
      "cell_type": "code",
      "execution_count": null,
      "metadata": {
        "id": "MwAtVqFr4_CM"
      },
      "outputs": [],
      "source": [
        "def init_coeffs(n_hidden=20):\n",
        "    layer1 = (torch.rand(n_coeff, n_hidden)-0.5)/n_hidden\n",
        "    # normalize by axis=1\n",
        "    layer2 = torch.rand(n_hidden, 1)-0.3\n",
        "    # 0.3 is heuristic\n",
        "    const = torch.rand(1)[0]\n",
        "    return layer1.requires_grad_(),layer2.requires_grad_(),const.requires_grad_()\n",
        "\n",
        "def calc_preds(coeffs, indeps):\n",
        "    l1,l2,const = coeffs\n",
        "    res = F.relu(indeps@l1)\n",
        "    res = res@l2 + const\n",
        "    return torch.sigmoid(res)\n",
        "\n",
        "def update_coeffs(coeffs, lr):\n",
        "    for layer in coeffs:\n",
        "        layer.sub_(layer.grad * lr)\n",
        "        layer.grad.zero_()"
      ]
    },
    {
      "cell_type": "code",
      "execution_count": null,
      "metadata": {
        "id": "bb896v9h4_CM"
      },
      "outputs": [],
      "source": [
        "coeffs = train_model(n_coeff, trn_indep, trn_dep, 10, 10)\n",
        "acc(coeffs)"
      ]
    },
    {
      "cell_type": "markdown",
      "metadata": {
        "id": "-Qsqe4nl4_CM"
      },
      "source": [
        "## Setting up a deeper NN"
      ]
    },
    {
      "cell_type": "code",
      "execution_count": null,
      "metadata": {
        "id": "-Amlx6Kg4_CM"
      },
      "outputs": [],
      "source": [
        "def init_coeffs(n_coeff, hiddens = [10, 10]):  # <-- set this to the size of each hidden layer you want\n",
        "    sizes = [n_coeff] + hiddens + [1]\n",
        "    n = len(sizes)\n",
        "    layers = [(torch.rand(sizes[i], sizes[i+1])-0.3)/sizes[i+1]*4 for i in range(n-1)]\n",
        "    consts = [(torch.rand(1)[0]-0.5)*0.1 for i in range(n-1)]\n",
        "    # these fixed numbers to adjust the initial values are heuristic\n",
        "    for l in layers+consts: l.requires_grad_()\n",
        "    return layers,consts\n",
        "\n",
        "def calc_preds(coeffs, indeps):\n",
        "    layers,consts = coeffs\n",
        "    n = len(layers)\n",
        "    res = indeps\n",
        "    for i,l in enumerate(layers):\n",
        "        res = res@l + consts[i]\n",
        "        if i!=n-1: res = F.relu(res)\n",
        "    return torch.sigmoid(res)\n",
        "\n",
        "def update_coeffs(coeffs, lr):\n",
        "    layers,consts = coeffs\n",
        "    for layer in layers+consts:\n",
        "        layer.sub_(layer.grad * lr)\n",
        "        layer.grad.zero_()"
      ]
    },
    {
      "cell_type": "code",
      "execution_count": null,
      "metadata": {
        "id": "pV7Y_vWa4_CN"
      },
      "outputs": [],
      "source": [
        "coeffs = train_model(n_coeff, trn_indep, trn_dep, 20, 1)\n",
        "# a much smaller lr works\n",
        "acc(coeffs)"
      ]
    },
    {
      "cell_type": "markdown",
      "metadata": {
        "id": "Zo7qC3Jy4_CN"
      },
      "source": [
        "# Using a Framework"
      ]
    },
    {
      "cell_type": "markdown",
      "metadata": {
        "id": "0GtgwGFt4_CN"
      },
      "source": [
        "## Initial set up"
      ]
    },
    {
      "cell_type": "code",
      "source": [
        "from fastai.tabular.all import (\n",
        "    set_seed, RandomSplitter,\n",
        "    TabularPandas,\n",
        "    CategoryBlock,\n",
        "    Categorify, FillMissing, Normalize,\n",
        "    tabular_learner,\n",
        "    slide, valley,\n",
        "    accuracy\n",
        ")"
      ],
      "metadata": {
        "id": "XpysZiM0VJWF"
      },
      "execution_count": null,
      "outputs": []
    },
    {
      "cell_type": "code",
      "execution_count": null,
      "metadata": {
        "id": "IjXxe71w4_CN"
      },
      "outputs": [],
      "source": [
        "pd.options.display.float_format = '{:.2f}'.format\n",
        "set_seed(42)"
      ]
    },
    {
      "cell_type": "markdown",
      "metadata": {
        "id": "LZIJjqQ54_CN"
      },
      "source": [
        "## Prep the data"
      ]
    },
    {
      "cell_type": "code",
      "execution_count": null,
      "metadata": {
        "id": "_oiSmxYO4_CN"
      },
      "outputs": [],
      "source": [
        "def add_features(df):\n",
        "    df['LogFare'] = np.log1p(df['Fare'])\n",
        "    df['Deck'] = df.Cabin.str[0].map(dict(A=\"ABC\", B=\"ABC\", C=\"ABC\", D=\"DE\", E=\"DE\", F=\"FG\", G=\"FG\"))\n",
        "    df['Family'] = df.SibSp+df.Parch\n",
        "    df['Alone'] = df.Family==1\n",
        "    df['TicketFreq'] = df.groupby('Ticket')['Ticket'].transform('count')\n",
        "    df['Title'] = df.Name.str.split(', ', expand=True)[1].str.split('.', expand=True)[0]\n",
        "    df['Title'] = df.Title.map(dict(Mr=\"Mr\",Miss=\"Miss\",Mrs=\"Mrs\",Master=\"Master\")).value_counts(dropna=False)\n",
        "    return df"
      ]
    },
    {
      "cell_type": "code",
      "execution_count": null,
      "metadata": {
        "id": "EHSNdmV54_CN"
      },
      "outputs": [],
      "source": [
        "df = pd.read_csv(path/'train.csv')\n",
        "df = add_features(df)"
      ]
    },
    {
      "cell_type": "code",
      "execution_count": null,
      "metadata": {
        "id": "-Hmlr_T24_CN"
      },
      "outputs": [],
      "source": [
        "splits = RandomSplitter(seed=42)(df)\n",
        "dls = TabularPandas(\n",
        "    df,\n",
        "    splits=splits,\n",
        "    procs = [Categorify, FillMissing, Normalize],\n",
        "    cat_names=[\"Sex\",\"Pclass\",\"Embarked\",\"Deck\", \"Title\"],\n",
        "    cont_names=['Age', 'SibSp', 'Parch', 'LogFare', 'Alone', 'TicketFreq', 'Family'],\n",
        "    y_names=\"Survived\",\n",
        "    y_block = CategoryBlock(),\n",
        ").dataloaders()"
      ]
    },
    {
      "cell_type": "markdown",
      "metadata": {
        "id": "ztAyptY44_CN"
      },
      "source": [
        "## Train the model"
      ]
    },
    {
      "cell_type": "code",
      "execution_count": null,
      "metadata": {
        "id": "ABb7DVmM4_CN"
      },
      "outputs": [],
      "source": [
        "learn = tabular_learner(dls, metrics=accuracy, layers=[10,10])"
      ]
    },
    {
      "cell_type": "code",
      "execution_count": null,
      "metadata": {
        "id": "c3cJbByu4_CN"
      },
      "outputs": [],
      "source": [
        "learn.lr_find(suggest_funcs=(slide, valley))"
      ]
    },
    {
      "cell_type": "code",
      "execution_count": null,
      "metadata": {
        "id": "RzaUQ-lh4_CN"
      },
      "outputs": [],
      "source": [
        "learn.fit(16, lr=0.05)"
      ]
    },
    {
      "cell_type": "markdown",
      "metadata": {
        "id": "N2cbrU6W4_CN"
      },
      "source": [
        "## Submit to Kaggle"
      ]
    },
    {
      "cell_type": "code",
      "execution_count": null,
      "metadata": {
        "id": "taU-pLDO4_CN"
      },
      "outputs": [],
      "source": [
        "tst_df = pd.read_csv(path/'test.csv')\n",
        "tst_df['Fare'] = tst_df.Fare.fillna(0)\n",
        "add_features(tst_df)\n",
        "\n",
        "tst_dl = learn.dls.test_dl(tst_df)\n",
        "\n",
        "# preds,_ = learn.get_preds(dl=tst_dl)\n",
        "\n",
        "# tst_df['Survived'] = (preds[:,1]>0.5).int()\n",
        "# sub_df = tst_df[['PassengerId','Survived']]\n",
        "# sub_df.to_csv('sub.csv', index=False)"
      ]
    },
    {
      "cell_type": "code",
      "execution_count": null,
      "metadata": {
        "id": "6Cu-OmmJ4_CO"
      },
      "outputs": [],
      "source": [
        "# !head sub.csv"
      ]
    },
    {
      "cell_type": "markdown",
      "metadata": {
        "id": "Z_N-iNLE4_CO"
      },
      "source": [
        "## Ensembling"
      ]
    },
    {
      "cell_type": "code",
      "execution_count": null,
      "metadata": {
        "id": "huj8ZA134_CO"
      },
      "outputs": [],
      "source": [
        "def ensemble():\n",
        "    learn = tabular_learner(dls, metrics=accuracy, layers=[10,10])\n",
        "    with learn.no_bar(),learn.no_logging(): learn.fit(16, lr=0.03)\n",
        "    return learn.get_preds(dl=tst_dl)[0]\n",
        "\n",
        "learns = [ensemble() for _ in range(5)]\n",
        "ens_preds = torch.stack(learns).mean(0)\n",
        "\n",
        "tst_df['Survived'] = (ens_preds[:,1]>0.5).int()\n",
        "sub_df = tst_df[['PassengerId','Survived']]\n",
        "sub_df.to_csv('ens_sub.csv', index=False)"
      ]
    },
    {
      "cell_type": "code",
      "source": [],
      "metadata": {
        "id": "1VaVGDrNYzLE"
      },
      "execution_count": null,
      "outputs": []
    }
  ],
  "metadata": {
    "kernelspec": {
      "display_name": "python3",
      "language": "python",
      "name": "python3"
    },
    "colab": {
      "provenance": [],
      "include_colab_link": true
    }
  },
  "nbformat": 4,
  "nbformat_minor": 0
}