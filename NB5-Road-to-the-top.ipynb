{
  "cells": [
    {
      "cell_type": "markdown",
      "metadata": {
        "id": "view-in-github",
        "colab_type": "text"
      },
      "source": [
        "<a href=\"https://colab.research.google.com/github/aminojagh/fast-ai/blob/main/NB5-Road-to-the-top.ipynb\" target=\"_parent\"><img src=\"https://colab.research.google.com/assets/colab-badge.svg\" alt=\"Open In Colab\"/></a>"
      ]
    },
    {
      "cell_type": "markdown",
      "source": [
        "## Initial Setup"
      ],
      "metadata": {
        "id": "2c6bBVKEKVtR"
      },
      "id": "2c6bBVKEKVtR"
    },
    {
      "cell_type": "markdown",
      "source": [
        "using fastkaggle to setup the competition (requires ~/kaggle/kaggle.json)"
      ],
      "metadata": {
        "id": "dXBgRr4KEXw4"
      },
      "id": "dXBgRr4KEXw4"
    },
    {
      "cell_type": "code",
      "source": [
        "kaggle_config_path = '/root/.config/kaggle'\n",
        "!mkdir {kaggle_config_path}\n",
        "from google.colab import files\n",
        "files.upload(kaggle_config_path)\n",
        "!chmod 600 /root/.config/kaggle/kaggle.json"
      ],
      "metadata": {
        "id": "RcE_XjULHmF9"
      },
      "id": "RcE_XjULHmF9",
      "execution_count": null,
      "outputs": []
    },
    {
      "cell_type": "code",
      "source": [
        "!pip install -Uq fastkaggle fastai"
      ],
      "metadata": {
        "id": "cbwxp1jhHyVO"
      },
      "id": "cbwxp1jhHyVO",
      "execution_count": null,
      "outputs": []
    },
    {
      "cell_type": "code",
      "source": [
        "from fastkaggle import setup_comp, iskaggle, push_notebook\n",
        "from fastai.vision.all import (get_image_files, PILImage, set_seed,\n",
        "                               ImageDataLoaders, Resize, aug_transforms,\n",
        "                               vision_learner, error_rate, valley, slide)\n",
        "\n",
        "from fastcore.parallel import parallel\n",
        "import pandas as pd"
      ],
      "metadata": {
        "id": "zpPVdJX7TAqX"
      },
      "id": "zpPVdJX7TAqX",
      "execution_count": null,
      "outputs": []
    },
    {
      "cell_type": "code",
      "source": [
        "comp = 'paddy-disease-classification'\n",
        "path = setup_comp(comp, install='fastai \"timm>=0.6.2.dev0\"')\n",
        "print(path)\n",
        "display(path.ls())"
      ],
      "metadata": {
        "id": "Fg4fLfOqD1AI"
      },
      "id": "Fg4fLfOqD1AI",
      "execution_count": null,
      "outputs": []
    },
    {
      "cell_type": "markdown",
      "source": [
        "## Looaking at the Data"
      ],
      "metadata": {
        "id": "MgE3YcajKeVB"
      },
      "id": "MgE3YcajKeVB"
    },
    {
      "cell_type": "code",
      "source": [
        "trn_path = path/'train_images'\n",
        "files = get_image_files(trn_path)\n",
        "# img = PILImage.create(files[0])\n",
        "# print(img.size)\n",
        "# img.to_thumb(128)"
      ],
      "metadata": {
        "id": "sl7iFTEFKySt"
      },
      "id": "sl7iFTEFKySt",
      "execution_count": null,
      "outputs": []
    },
    {
      "cell_type": "code",
      "source": [
        "def f(o): return PILImage.create(o).size\n",
        "sizes = parallel(f, files, n_workers=8)\n",
        "pd.Series(sizes).value_counts()"
      ],
      "metadata": {
        "id": "FTwSoXQSLEW7"
      },
      "id": "FTwSoXQSLEW7",
      "execution_count": null,
      "outputs": []
    },
    {
      "cell_type": "code",
      "source": [
        "dls = ImageDataLoaders.from_folder(trn_path, valid_pct=0.2, seed=42,\n",
        "    item_tfms=Resize(480, method='squish'),\n",
        "    batch_tfms=aug_transforms(size=128, min_scale=0.75))\n",
        "\n",
        "# dls.show_batch(max_n=6)"
      ],
      "metadata": {
        "id": "C549CBXIHq2s"
      },
      "id": "C549CBXIHq2s",
      "execution_count": null,
      "outputs": []
    },
    {
      "cell_type": "markdown",
      "source": [
        "## Our first model"
      ],
      "metadata": {
        "id": "Zhv4B_16IQfe"
      },
      "id": "Zhv4B_16IQfe"
    },
    {
      "cell_type": "code",
      "source": [
        "learn = vision_learner(dls, 'resnet26d', metrics=error_rate, path='.').to_fp16()\n",
        "learn.lr_find(suggest_funcs=(valley, slide))"
      ],
      "metadata": {
        "id": "URFmFdWxIB7p"
      },
      "id": "URFmFdWxIB7p",
      "execution_count": null,
      "outputs": []
    },
    {
      "cell_type": "code",
      "source": [
        "learn.fine_tune(3, 0.01)"
      ],
      "metadata": {
        "id": "6rpsquXeIWdo"
      },
      "id": "6rpsquXeIWdo",
      "execution_count": null,
      "outputs": []
    },
    {
      "cell_type": "markdown",
      "source": [
        "## Submitting to Kaggle"
      ],
      "metadata": {
        "id": "jq_NojrkJauM"
      },
      "id": "jq_NojrkJauM"
    },
    {
      "cell_type": "code",
      "source": [
        "ss = pd.read_csv(path/'sample_submission.csv')\n",
        "tst_files = get_image_files(path/'test_images').sorted()\n",
        "tst_dl = dls.test_dl(tst_files)\n",
        "\n",
        "probs,_,idxs = learn.get_preds(dl=tst_dl, with_decoded=True)\n",
        "# print(idxs)\n",
        "# print(dls.vocab)\n",
        "mapping = dict(enumerate(dls.vocab))\n",
        "results = pd.Series(idxs.numpy(), name=\"idxs\").map(mapping)\n",
        "\n",
        "ss['label'] = results\n",
        "ss.to_csv('subm.csv', index=False)\n",
        "# !head subm.csv\n",
        "\n",
        "if not iskaggle:\n",
        "    from kaggle import api\n",
        "    api.competition_submit_cli('subm.csv', 'initial rn26d 128px', comp)\n",
        "    # push_notebook('jhoward', 'first-steps-road-to-the-top-part-1',\n",
        "    #               title='First Steps: Road to the Top, Part 1',\n",
        "    #               file='first-steps-road-to-the-top-part-1.ipynb',\n",
        "    #               competition=comp, private=False, gpu=True)"
      ],
      "metadata": {
        "id": "qcjwbiD7KrzQ"
      },
      "id": "qcjwbiD7KrzQ",
      "execution_count": null,
      "outputs": []
    }
  ],
  "metadata": {
    "kernelspec": {
      "display_name": "Python 3",
      "name": "python3"
    },
    "language_info": {
      "codemirror_mode": {
        "name": "ipython",
        "version": 3
      },
      "file_extension": ".py",
      "mimetype": "text/x-python",
      "name": "python",
      "nbconvert_exporter": "python",
      "pygments_lexer": "ipython3",
      "version": "3.10.16"
    },
    "colab": {
      "provenance": [],
      "include_colab_link": true
    }
  },
  "nbformat": 4,
  "nbformat_minor": 5
}