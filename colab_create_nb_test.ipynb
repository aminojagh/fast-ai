{
  "nbformat": 4,
  "nbformat_minor": 0,
  "metadata": {
    "colab": {
      "provenance": [],
      "authorship_tag": "ABX9TyMCoqBjM7pjK49JF1aOFGWk"
    },
    "kernelspec": {
      "name": "python3",
      "display_name": "Python 3"
    },
    "language_info": {
      "name": "python"
    }
  },
  "cells": [
    {
      "cell_type": "code",
      "execution_count": null,
      "metadata": {
        "id": "raI32aD4qgV0"
      },
      "outputs": [],
      "source": [
        "# i created this notebook to see if i can push it to the connected github repo"
      ]
    }
  ]
}